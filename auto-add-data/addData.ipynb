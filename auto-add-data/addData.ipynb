{
 "cells": [
  {
   "cell_type": "code",
   "execution_count": 1,
   "metadata": {},
   "outputs": [],
   "source": [
    "import mysql.connector\n",
    "from mysql.connector import Error\n",
    "\n",
    "from datetime import datetime\n",
    "from random import randint\n",
    "import time"
   ]
  },
  {
   "cell_type": "code",
   "execution_count": 2,
   "metadata": {},
   "outputs": [],
   "source": [
    "def addData():\n",
    "    try:\n",
    "        # 連接資料庫\n",
    "        connection = mysql.connector.connect(\n",
    "            host='localhost',     # 主機名稱\n",
    "            database='laravel',   # 資料庫名稱\n",
    "            user='sample',        # 帳號\n",
    "            password='123456')    # 密碼\n",
    "\n",
    "        # 新增資料\n",
    "        sql = \"INSERT INTO chart (value, time) VALUES (%s, %s);\"\n",
    "\n",
    "        time = datetime.now().strftime('%Y-%m-%d %H:%M:%S')\n",
    "        value = randint(20, 500)\n",
    "\n",
    "        new_data = (value, time)\n",
    "        cursor = connection.cursor()\n",
    "        cursor.execute(sql, new_data)\n",
    "\n",
    "        # 確認資料有存入資料庫\n",
    "        connection.commit()\n",
    "\n",
    "    except Error as e:\n",
    "        print(\"資料庫連接失敗：\", e)\n",
    "\n",
    "    finally:\n",
    "        if (connection.is_connected()):\n",
    "            cursor.close()\n",
    "            connection.close()"
   ]
  },
  {
   "cell_type": "code",
   "execution_count": null,
   "metadata": {},
   "outputs": [],
   "source": [
    "while(1):\n",
    "    addData()\n",
    "    time.sleep(1)"
   ]
  },
  {
   "cell_type": "code",
   "execution_count": null,
   "metadata": {},
   "outputs": [],
   "source": []
  }
 ],
 "metadata": {
  "kernelspec": {
   "display_name": "Python 3",
   "language": "python",
   "name": "python3"
  },
  "language_info": {
   "codemirror_mode": {
    "name": "ipython",
    "version": 3
   },
   "file_extension": ".py",
   "mimetype": "text/x-python",
   "name": "python",
   "nbconvert_exporter": "python",
   "pygments_lexer": "ipython3",
   "version": "3.7.9"
  }
 },
 "nbformat": 4,
 "nbformat_minor": 4
}
